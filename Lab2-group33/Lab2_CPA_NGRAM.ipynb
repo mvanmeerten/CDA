{
 "cells": [
  {
   "cell_type": "markdown",
   "metadata": {},
   "source": [
    "# CS4035 - Cyber Data Analytics\n",
    "## Lab 2 "
   ]
  },
  {
   "cell_type": "markdown",
   "metadata": {},
   "source": [
    "### Submit on brightspace (zip file with the name Group_xx.zip)\n",
    "(i) This jupyter file completed with code, plots, figures and report for each question. Additional plots and figures can be created for explanation before the end of each main question. Lab 2 contains 7 main questions, including the bonus. Write the code or explanation below each sub question. For the explantions, include what you would normally include in the report for this lab assignment, for example data pre-processing, hypothesis tested, approach, results, etc.\n",
    "(ii) A PDF or a Word report for the assignment. Create a report from the plots, figures, tables and the write-up that you provide in this jupyter file. The report will be used as a proof for page limit. \n",
    "(iii) The libraries needed to run this file. \n",
    "\n",
    "Your peers should be able to use the readme section for instructions and be able to run this file. \n"
   ]
  },
  {
   "cell_type": "markdown",
   "metadata": {},
   "source": [
    "### Group 33 - Yannick Haveman 4299078"
   ]
  },
  {
   "cell_type": "markdown",
   "metadata": {},
   "source": [
    "## Readme - Provide instructions - libraries used, location of the data file, etc. Keep it short. Remember your peers will not debug your code and should be able to reproduce the exact output you provide."
   ]
  },
  {
   "cell_type": "code",
   "execution_count": 117,
   "metadata": {},
   "outputs": [
    {
     "name": "stdout",
     "output_type": "stream",
     "text": [
      "X:  [[  2 261   2 ...   1   1   1]\n",
      " [  2 261   2 ...   1   1   1]\n",
      " [  2 260   2 ...   1   1   1]\n",
      " ...\n",
      " [  2 522   2 ...   1   1   1]\n",
      " [  2 522   2 ...   1   1   1]\n",
      " [  2 522   2 ...   1   1   1]]\n",
      "y:  [0 0 0 ... 0 0 0]\n"
     ]
    }
   ],
   "source": [
    "import numpy as np\n",
    "import pandas as pd\n",
    "import matplotlib.pyplot as plt\n",
    "import seaborn as sns\n",
    "from statsmodels.tsa.arima.model import ARIMA\n",
    "from sklearn.neighbors import LocalOutlierFactor\n",
    "from sklearn.decomposition import PCA\n",
    "from sklearn import *\n",
    "\n",
    "df = pd.read_csv('SWaT_train.csv', skipinitialspace=True)\n",
    "df.drop(columns=[\"Timestamp\", \"Normal/Attack\"], inplace=True)\n",
    "# df.drop(columns=[\"Timestamp\"], inplace=True)\n",
    "X = df.to_numpy().astype(int)\n",
    "# X = df\n",
    "\n",
    "df_test = pd.read_csv('SWaT_test.csv', skipinitialspace=True)\n",
    "df_test.loc[df_test['Normal/Attack'] == 'Attack', 'Normal/Attack'] = 1 # Attack\n",
    "df_test.loc[df_test['Normal/Attack'] == 'Normal', 'Normal/Attack'] = 0 # Normal\n",
    "y = df_test['Normal/Attack'].to_numpy().astype(int)\n",
    "df_test.drop(columns=[\"Unnamed: 0\", \"Timestamp\", \"Normal/Attack\"], inplace=True)\n",
    "\n",
    "print(\"X: \", X)\n",
    "print(\"y: \", y)"
   ]
  },
  {
   "cell_type": "markdown",
   "metadata": {},
   "source": [
    "## 3. PCA task – 1/2 A4 – Individual"
   ]
  },
  {
   "cell_type": "markdown",
   "metadata": {},
   "source": [
    "### 3a. Plot PCA residuals"
   ]
  },
  {
   "cell_type": "code",
   "execution_count": 140,
   "metadata": {},
   "outputs": [
    {
     "name": "stdout",
     "output_type": "stream",
     "text": [
      "Mean:  3.539852969702363e-14 STD:  129.6777989777752\n",
      "Residual:  [[-6.81779966e-10 -7.30437932e-12]\n",
      " [-5.84350346e-11 -2.74809508e-10]\n",
      " [-4.58157956e-11 -3.83124643e-11]\n",
      " ...\n",
      " [-3.41700002e-11 -2.77537993e-11]\n",
      " [-3.42126327e-11 -2.76401124e-11]\n",
      " [-3.41557893e-11 -2.75264256e-11]]\n"
     ]
    },
    {
     "data": {
      "image/png": "[encoded data removed]",
      "text/plain": [
       "<Figure size 432x288 with 1 Axes>"
      ]
     },
     "metadata": {
      "needs_background": "light"
     },
     "output_type": "display_data"
    },
    {
     "data": {
      "image/png": "[encoded data removed]",
      "text/plain": [
       "<Figure size 432x288 with 1 Axes>"
      ]
     },
     "metadata": {
      "needs_background": "light"
     },
     "output_type": "display_data"
    }
   ],
   "source": [
    "n_components = 2\n",
    "random_state = 2021\n",
    "\n",
    "def perform_cpa(n_component, random_state):\n",
    "    pca = PCA(n_components=n_components, random_state=random_state)\n",
    "    X_pca = pca.fit_transform(X)\n",
    "    print(\"Mean: \", np.mean(X_pca), \"STD: \", np.std(X_pca))\n",
    "    \n",
    "    X_train_inverse = pca.inverse_transform(X_pca)\n",
    "    X_train_inverse = pca.fit_transform(X_train_inverse)\n",
    "    \n",
    "    residual = X_pca - X_train_inverse\n",
    "    print(\"Residual: \", residual)\n",
    "    \n",
    "    return X_pca, residual\n",
    "\n",
    "# X_pca_pd = pd.DataFrame(data = X_pca, columns = ['Component 1', 'Component 2'])\n",
    "\n",
    "# print('Explained variation per principal component: {}'.format(pca.explained_variance_ratio_))\n",
    "\n",
    "# plt.figure()\n",
    "# plt.figure(figsize=(10,10))\n",
    "# plt.xticks(fontsize=12)\n",
    "# plt.yticks(fontsize=14)\n",
    "# plt.xlabel('Component - 1',fontsize=20)\n",
    "# plt.ylabel('Component - 2',fontsize=20)\n",
    "# plt.title(\"PCA of SWaT\",fontsize=20)\n",
    "# targets = ['Normal', 'Attack']\n",
    "# colors = ['r', 'g']\n",
    "# for target, color in zip(targets,colors):\n",
    "#     indicesToKeep = df['Normal/Attack'] == target\n",
    "#     plt.scatter(X_pca_pd.loc[indicesToKeep, 'Component 1']\n",
    "#                , X_pca_pd.loc[indicesToKeep, 'Component 2'], c = color, s = 50)\n",
    "\n",
    "# plt.legend(targets,prop={'size': 15})\n",
    "\n",
    "# plt.show()\n",
    "\n",
    "X_pca, residual = perform_cpa(2, 2021)\n",
    "\n",
    "# plt.scatter(X_pca[:, 0], X_pca[:, 1], alpha=0.2)\n",
    "plt.scatter(X_pca[8000:10000, 0], X_pca[8000:10000, 1], alpha=0.2)\n",
    "plt.scatter(residual[8000:10000, 0], residual[8000:10000, 1], alpha=0.8)\n",
    "# plt.axis('equal')\n",
    "\n",
    "plt.show()\n",
    "\n",
    "plt.scatter(X_pca[18000:20000, 0], X_pca[18000:20000, 1], alpha=0.2)\n",
    "plt.scatter(residual[18000:20000, 0], residual[18000:20000, 1], alpha=0.8)\n",
    "# plt.axis('equal')\n",
    "\n",
    "plt.show()"
   ]
  },
  {
   "cell_type": "markdown",
   "metadata": {},
   "source": [
    "### 3b. Analysis and answers to the questions"
   ]
  },
  {
   "cell_type": "code",
   "execution_count": null,
   "metadata": {},
   "outputs": [],
   "source": []
  },
  {
   "cell_type": "markdown",
   "metadata": {},
   "source": [
    "## 5. N-gram task – 1/2 A4 - Individual"
   ]
  },
  {
   "cell_type": "markdown",
   "metadata": {},
   "source": [
    "### 5a. Visualise discretization"
   ]
  },
  {
   "cell_type": "code",
   "execution_count": null,
   "metadata": {},
   "outputs": [],
   "source": []
  },
  {
   "cell_type": "markdown",
   "metadata": {},
   "source": [
    "### 5b. Analysis and answers to the questions. Also provide relevant plots."
   ]
  },
  {
   "cell_type": "code",
   "execution_count": null,
   "metadata": {},
   "outputs": [],
   "source": []
  }
 ],
 "metadata": {
  "kernelspec": {
   "display_name": "Python 3",
   "language": "python",
   "name": "python3"
  },
  "language_info": {
   "codemirror_mode": {
    "name": "ipython",
    "version": 3
   },
   "file_extension": ".py",
   "mimetype": "text/x-python",
   "name": "python",
   "nbconvert_exporter": "python",
   "pygments_lexer": "ipython3",
   "version": "3.9.5"
  }
 },
 "nbformat": 4,
 "nbformat_minor": 2
}
