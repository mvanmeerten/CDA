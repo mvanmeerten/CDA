{
 "cells": [
  {
   "cell_type": "markdown",
   "metadata": {},
   "source": [
    "# CS4035 - Cyber Data Analytics\n",
    "## Lab 3 "
   ]
  },
  {
   "cell_type": "markdown",
   "metadata": {},
   "source": [
    "### Submit on brightspace (zip file with the name Group_xx.zip)\n",
    "(i) This jupyter file completed with code, plots, figures and report for each question. Additional plots and figures can be created for explanation before the end of each main question. Lab 3 contains 7 main questions, including the bonus. Write the code or explanation below each sub question. For the explantions, include what you would normally include in the report for this lab assignment, for example data pre-processing, hypothesis tested, approach, results, etc.\n",
    "(ii) A PDF or a Word report for the assignment. Create a report from the plots, figures, tables and the write-up that you provide in this jupyter file. The report will be used as a proof for page limit. \n",
    "(iii) The libraries needed to run this file. \n",
    "\n",
    "Your peers should be able to use the readme section for instructions and be able to run this file. "
   ]
  },
  {
   "cell_type": "code",
   "execution_count": 333,
   "metadata": {},
   "outputs": [
    {
     "name": "stdout",
     "output_type": "stream",
     "text": [
      "Word count: 1027\n"
     ]
    }
   ],
   "source": [
    "# If this cell does not work try running `pip install nbformat`\n",
    "\n",
    "import io\n",
    "from IPython import nbformat\n",
    "\n",
    "nb = nbformat.read(\"lab3.ipynb\", nbformat.NO_CONVERT)\n",
    "word_count = 0\n",
    "for cell in nb.cells:\n",
    "    if cell.cell_type == \"markdown\":\n",
    "        word_count += len(cell['source'].replace('#', '').lstrip().split(' '))\n",
    "\n",
    "print(\"Word count:\", word_count)"
   ]
  },
  {
   "cell_type": "markdown",
   "metadata": {},
   "source": [
    "## Group Number : 33"
   ]
  },
  {
   "cell_type": "markdown",
   "metadata": {},
   "source": [
    "## Student 1 \n",
    "### Name : Martijn van Meerten\n",
    "### ID : 4387902"
   ]
  },
  {
   "cell_type": "markdown",
   "metadata": {},
   "source": [
    "## Student 2\n",
    "### Name : Yannick Haveman\n",
    "### ID : 4299078"
   ]
  },
  {
   "cell_type": "markdown",
   "metadata": {},
   "source": [
    "## Readme - Provide instructions - libraries used, location of the data file, etc. Keep it short. Remember your peers will not debug your code and should be able to reproduce the exact output you provide."
   ]
  },
  {
   "cell_type": "code",
   "execution_count": null,
   "metadata": {},
   "outputs": [],
   "source": []
  },
  {
   "cell_type": "markdown",
   "metadata": {},
   "source": [
    "## 1. Familiarization and discretization task – 1 A4"
   ]
  },
  {
   "cell_type": "code",
   "execution_count": 304,
   "metadata": {},
   "outputs": [],
   "source": [
    "import numpy as np\n",
    "import pandas as pd\n",
    "import matplotlib.pyplot as plt\n",
    "from sklearn.preprocessing import LabelEncoder\n",
    "from scipy.spatial import distance\n",
    "import warnings\n",
    "warnings.filterwarnings(\"ignore\")"
   ]
  },
  {
   "cell_type": "code",
   "execution_count": 305,
   "metadata": {},
   "outputs": [
    {
     "data": {
      "text/html": [
       "<div>\n",
       "<style scoped>\n",
       "    .dataframe tbody tr th:only-of-type {\n",
       "        vertical-align: middle;\n",
       "    }\n",
       "\n",
       "    .dataframe tbody tr th {\n",
       "        vertical-align: top;\n",
       "    }\n",
       "\n",
       "    .dataframe thead th {\n",
       "        text-align: right;\n",
       "    }\n",
       "</style>\n",
       "<table border=\"1\" class=\"dataframe\">\n",
       "  <thead>\n",
       "    <tr style=\"text-align: right;\">\n",
       "      <th></th>\n",
       "      <th>StartTime</th>\n",
       "      <th>Dur</th>\n",
       "      <th>Proto</th>\n",
       "      <th>SrcAddr</th>\n",
       "      <th>Sport</th>\n",
       "      <th>Dir</th>\n",
       "      <th>DstAddr</th>\n",
       "      <th>Dport</th>\n",
       "      <th>State</th>\n",
       "      <th>sTos</th>\n",
       "      <th>dTos</th>\n",
       "      <th>TotPkts</th>\n",
       "      <th>TotBytes</th>\n",
       "      <th>SrcBytes</th>\n",
       "      <th>Label</th>\n",
       "    </tr>\n",
       "  </thead>\n",
       "  <tbody>\n",
       "    <tr>\n",
       "      <th>532</th>\n",
       "      <td>2011/08/18 10:19:15.693956</td>\n",
       "      <td>3587.569824</td>\n",
       "      <td>tcp</td>\n",
       "      <td>147.32.84.164</td>\n",
       "      <td>54784</td>\n",
       "      <td>&lt;?&gt;</td>\n",
       "      <td>74.125.232.215</td>\n",
       "      <td>443</td>\n",
       "      <td>PA_PA</td>\n",
       "      <td>0.0</td>\n",
       "      <td>0.0</td>\n",
       "      <td>3049</td>\n",
       "      <td>978731</td>\n",
       "      <td>245317</td>\n",
       "      <td>flow=From-Normal-V51-Grill</td>\n",
       "    </tr>\n",
       "    <tr>\n",
       "      <th>822</th>\n",
       "      <td>2011/08/18 10:19:18.143576</td>\n",
       "      <td>198.072739</td>\n",
       "      <td>tcp</td>\n",
       "      <td>147.32.84.164</td>\n",
       "      <td>56165</td>\n",
       "      <td>&lt;?&gt;</td>\n",
       "      <td>74.125.232.197</td>\n",
       "      <td>80</td>\n",
       "      <td>FA_FA</td>\n",
       "      <td>0.0</td>\n",
       "      <td>0.0</td>\n",
       "      <td>14</td>\n",
       "      <td>924</td>\n",
       "      <td>462</td>\n",
       "      <td>flow=From-Normal-V51-Grill</td>\n",
       "    </tr>\n",
       "    <tr>\n",
       "      <th>842</th>\n",
       "      <td>2011/08/18 10:19:18.303590</td>\n",
       "      <td>197.928329</td>\n",
       "      <td>tcp</td>\n",
       "      <td>147.32.84.164</td>\n",
       "      <td>57965</td>\n",
       "      <td>&lt;?&gt;</td>\n",
       "      <td>209.85.149.138</td>\n",
       "      <td>80</td>\n",
       "      <td>FA_FA</td>\n",
       "      <td>0.0</td>\n",
       "      <td>0.0</td>\n",
       "      <td>14</td>\n",
       "      <td>924</td>\n",
       "      <td>462</td>\n",
       "      <td>flow=From-Normal-V51-Grill</td>\n",
       "    </tr>\n",
       "    <tr>\n",
       "      <th>1021</th>\n",
       "      <td>2011/08/18 10:19:19.838272</td>\n",
       "      <td>0.000399</td>\n",
       "      <td>udp</td>\n",
       "      <td>147.32.84.170</td>\n",
       "      <td>45807</td>\n",
       "      <td>&lt;-&gt;</td>\n",
       "      <td>147.32.80.9</td>\n",
       "      <td>53</td>\n",
       "      <td>CON</td>\n",
       "      <td>0.0</td>\n",
       "      <td>0.0</td>\n",
       "      <td>2</td>\n",
       "      <td>400</td>\n",
       "      <td>74</td>\n",
       "      <td>flow=From-Normal-V51-Stribrek</td>\n",
       "    </tr>\n",
       "    <tr>\n",
       "      <th>1022</th>\n",
       "      <td>2011/08/18 10:19:19.839123</td>\n",
       "      <td>0.000400</td>\n",
       "      <td>udp</td>\n",
       "      <td>147.32.84.170</td>\n",
       "      <td>35380</td>\n",
       "      <td>&lt;-&gt;</td>\n",
       "      <td>147.32.80.9</td>\n",
       "      <td>53</td>\n",
       "      <td>CON</td>\n",
       "      <td>0.0</td>\n",
       "      <td>0.0</td>\n",
       "      <td>2</td>\n",
       "      <td>400</td>\n",
       "      <td>74</td>\n",
       "      <td>flow=From-Normal-V51-Stribrek</td>\n",
       "    </tr>\n",
       "  </tbody>\n",
       "</table>\n",
       "</div>"
      ],
      "text/plain": [
       "                       StartTime          Dur Proto        SrcAddr  Sport  \\\n",
       "532   2011/08/18 10:19:15.693956  3587.569824   tcp  147.32.84.164  54784   \n",
       "822   2011/08/18 10:19:18.143576   198.072739   tcp  147.32.84.164  56165   \n",
       "842   2011/08/18 10:19:18.303590   197.928329   tcp  147.32.84.164  57965   \n",
       "1021  2011/08/18 10:19:19.838272     0.000399   udp  147.32.84.170  45807   \n",
       "1022  2011/08/18 10:19:19.839123     0.000400   udp  147.32.84.170  35380   \n",
       "\n",
       "        Dir         DstAddr Dport  State  sTos  dTos  TotPkts  TotBytes  \\\n",
       "532     <?>  74.125.232.215   443  PA_PA   0.0   0.0     3049    978731   \n",
       "822     <?>  74.125.232.197    80  FA_FA   0.0   0.0       14       924   \n",
       "842     <?>  209.85.149.138    80  FA_FA   0.0   0.0       14       924   \n",
       "1021    <->     147.32.80.9    53    CON   0.0   0.0        2       400   \n",
       "1022    <->     147.32.80.9    53    CON   0.0   0.0        2       400   \n",
       "\n",
       "      SrcBytes                          Label  \n",
       "532     245317     flow=From-Normal-V51-Grill  \n",
       "822        462     flow=From-Normal-V51-Grill  \n",
       "842        462     flow=From-Normal-V51-Grill  \n",
       "1021        74  flow=From-Normal-V51-Stribrek  \n",
       "1022        74  flow=From-Normal-V51-Stribrek  "
      ]
     },
     "execution_count": 305,
     "metadata": {},
     "output_type": "execute_result"
    }
   ],
   "source": [
    "df = pd.read_table('./dataset_10/capture20110818.binetflow', sep=\",\")\n",
    "# Remove background data and clean up State feature\n",
    "df = df[df['Label'].map(lambda x: 'Background' not in str(x))]\n",
    "df.loc[df['State'].isna(),'State'] = 'NA'\n",
    "df.head()"
   ]
  },
  {
   "cell_type": "code",
   "execution_count": 306,
   "metadata": {},
   "outputs": [
    {
     "data": {
      "text/html": [
       "<div>\n",
       "<style scoped>\n",
       "    .dataframe tbody tr th:only-of-type {\n",
       "        vertical-align: middle;\n",
       "    }\n",
       "\n",
       "    .dataframe tbody tr th {\n",
       "        vertical-align: top;\n",
       "    }\n",
       "\n",
       "    .dataframe thead th {\n",
       "        text-align: right;\n",
       "    }\n",
       "</style>\n",
       "<table border=\"1\" class=\"dataframe\">\n",
       "  <thead>\n",
       "    <tr style=\"text-align: right;\">\n",
       "      <th></th>\n",
       "      <th>StartTime</th>\n",
       "      <th>Dur</th>\n",
       "      <th>Proto</th>\n",
       "      <th>SrcAddr</th>\n",
       "      <th>Sport</th>\n",
       "      <th>Dir</th>\n",
       "      <th>DstAddr</th>\n",
       "      <th>Dport</th>\n",
       "      <th>State</th>\n",
       "      <th>sTos</th>\n",
       "      <th>dTos</th>\n",
       "      <th>TotPkts</th>\n",
       "      <th>TotBytes</th>\n",
       "      <th>SrcBytes</th>\n",
       "      <th>Label</th>\n",
       "    </tr>\n",
       "  </thead>\n",
       "  <tbody>\n",
       "    <tr>\n",
       "      <th>113304</th>\n",
       "      <td>2011/08/18 10:43:13.001890</td>\n",
       "      <td>0.000317</td>\n",
       "      <td>udp</td>\n",
       "      <td>147.32.84.191</td>\n",
       "      <td>1025</td>\n",
       "      <td>&lt;-&gt;</td>\n",
       "      <td>147.32.80.9</td>\n",
       "      <td>53</td>\n",
       "      <td>CON</td>\n",
       "      <td>0.0</td>\n",
       "      <td>0.0</td>\n",
       "      <td>2</td>\n",
       "      <td>203</td>\n",
       "      <td>64</td>\n",
       "      <td>flow=From-Botnet-V51-2-UDP-DNS</td>\n",
       "    </tr>\n",
       "    <tr>\n",
       "      <th>113476</th>\n",
       "      <td>2011/08/18 10:43:15.259378</td>\n",
       "      <td>0.010076</td>\n",
       "      <td>udp</td>\n",
       "      <td>147.32.84.191</td>\n",
       "      <td>1025</td>\n",
       "      <td>&lt;-&gt;</td>\n",
       "      <td>147.32.80.9</td>\n",
       "      <td>53</td>\n",
       "      <td>CON</td>\n",
       "      <td>0.0</td>\n",
       "      <td>0.0</td>\n",
       "      <td>2</td>\n",
       "      <td>590</td>\n",
       "      <td>87</td>\n",
       "      <td>flow=From-Botnet-V51-2-UDP-DNS</td>\n",
       "    </tr>\n",
       "    <tr>\n",
       "      <th>113477</th>\n",
       "      <td>2011/08/18 10:43:15.270377</td>\n",
       "      <td>0.038013</td>\n",
       "      <td>tcp</td>\n",
       "      <td>147.32.84.191</td>\n",
       "      <td>1027</td>\n",
       "      <td>-&gt;</td>\n",
       "      <td>74.125.232.201</td>\n",
       "      <td>80</td>\n",
       "      <td>SRPA_SPA</td>\n",
       "      <td>0.0</td>\n",
       "      <td>0.0</td>\n",
       "      <td>7</td>\n",
       "      <td>882</td>\n",
       "      <td>629</td>\n",
       "      <td>flow=From-Botnet-V51-2-TCP-HTTP-Google-Net-Est...</td>\n",
       "    </tr>\n",
       "    <tr>\n",
       "      <th>113608</th>\n",
       "      <td>2011/08/18 10:43:18.170284</td>\n",
       "      <td>0.010317</td>\n",
       "      <td>udp</td>\n",
       "      <td>147.32.84.191</td>\n",
       "      <td>1025</td>\n",
       "      <td>&lt;-&gt;</td>\n",
       "      <td>147.32.80.9</td>\n",
       "      <td>53</td>\n",
       "      <td>CON</td>\n",
       "      <td>0.0</td>\n",
       "      <td>0.0</td>\n",
       "      <td>2</td>\n",
       "      <td>479</td>\n",
       "      <td>76</td>\n",
       "      <td>flow=From-Botnet-V51-2-UDP-DNS</td>\n",
       "    </tr>\n",
       "    <tr>\n",
       "      <th>113609</th>\n",
       "      <td>2011/08/18 10:43:18.182857</td>\n",
       "      <td>321.717560</td>\n",
       "      <td>udp</td>\n",
       "      <td>147.32.84.191</td>\n",
       "      <td>123</td>\n",
       "      <td>-&gt;</td>\n",
       "      <td>65.55.56.40</td>\n",
       "      <td>123</td>\n",
       "      <td>INT</td>\n",
       "      <td>0.0</td>\n",
       "      <td>NaN</td>\n",
       "      <td>4</td>\n",
       "      <td>360</td>\n",
       "      <td>360</td>\n",
       "      <td>flow=From-Botnet-V51-2-UDP-Attempt</td>\n",
       "    </tr>\n",
       "  </tbody>\n",
       "</table>\n",
       "</div>"
      ],
      "text/plain": [
       "                         StartTime         Dur Proto        SrcAddr Sport  \\\n",
       "113304  2011/08/18 10:43:13.001890    0.000317   udp  147.32.84.191  1025   \n",
       "113476  2011/08/18 10:43:15.259378    0.010076   udp  147.32.84.191  1025   \n",
       "113477  2011/08/18 10:43:15.270377    0.038013   tcp  147.32.84.191  1027   \n",
       "113608  2011/08/18 10:43:18.170284    0.010317   udp  147.32.84.191  1025   \n",
       "113609  2011/08/18 10:43:18.182857  321.717560   udp  147.32.84.191   123   \n",
       "\n",
       "          Dir         DstAddr Dport     State  sTos  dTos  TotPkts  TotBytes  \\\n",
       "113304    <->     147.32.80.9    53       CON   0.0   0.0        2       203   \n",
       "113476    <->     147.32.80.9    53       CON   0.0   0.0        2       590   \n",
       "113477     ->  74.125.232.201    80  SRPA_SPA   0.0   0.0        7       882   \n",
       "113608    <->     147.32.80.9    53       CON   0.0   0.0        2       479   \n",
       "113609     ->     65.55.56.40   123       INT   0.0   NaN        4       360   \n",
       "\n",
       "        SrcBytes                                              Label  \n",
       "113304        64                     flow=From-Botnet-V51-2-UDP-DNS  \n",
       "113476        87                     flow=From-Botnet-V51-2-UDP-DNS  \n",
       "113477       629  flow=From-Botnet-V51-2-TCP-HTTP-Google-Net-Est...  \n",
       "113608        76                     flow=From-Botnet-V51-2-UDP-DNS  \n",
       "113609       360                 flow=From-Botnet-V51-2-UDP-Attempt  "
      ]
     },
     "execution_count": 306,
     "metadata": {},
     "output_type": "execute_result"
    }
   ],
   "source": [
    "# Netflows from infected host '147.32.84.191'\n",
    "df_inf = df[df['SrcAddr'].map(lambda x: '147.32.84.191' in str(x))]\n",
    "df_inf.head()"
   ]
  },
  {
   "cell_type": "markdown",
   "metadata": {},
   "source": [
    "### 1a. Plot visualizations - Select and visualize two features for modeling the behavior of the infected host."
   ]
  },
  {
   "cell_type": "code",
   "execution_count": 307,
   "metadata": {},
   "outputs": [],
   "source": [
    "# Separate normal data and botnet data\n",
    "df_norm = df[df['Label'].map(lambda x: 'Normal' in str(x))]\n",
    "df_all = df[df['Label'].map(lambda x: 'Botnet' in str(x))]\n",
    "# Encode state\n",
    "state_enc = LabelEncoder()\n",
    "state_enc.fit(df['State'])\n",
    "df['State'] = state_enc.transform(df.State)\n",
    "df_norm['State'] = state_enc.transform(df_norm.State)\n",
    "df_inf['State'] = state_enc.transform(df_inf.State)\n",
    "df_all['State'] = state_enc.transform(df_all.State)"
   ]
  },
  {
   "cell_type": "code",
   "execution_count": 308,
   "metadata": {},
   "outputs": [
    {
     "name": "stdout",
     "output_type": "stream",
     "text": [
      "0.9537019322747273\n",
      "0.9337414021581372\n"
     ]
    }
   ],
   "source": [
    "print(len(df_inf.loc[df_inf['TotBytes'] < 6000]) / len(df_inf))\n",
    "print(len(df_norm.loc[df_norm['TotBytes'] < 6000]) / len(df_norm))"
   ]
  },
  {
   "cell_type": "markdown",
   "metadata": {},
   "source": [
    "Most of the total bytes netflows are below 6000 bytes"
   ]
  },
  {
   "cell_type": "code",
   "execution_count": 309,
   "metadata": {},
   "outputs": [
    {
     "data": {
      "image/png": "[encoded data removed]",
      "text/plain": [
       "<Figure size 864x504 with 4 Axes>"
      ]
     },
     "metadata": {
      "needs_background": "light"
     },
     "output_type": "display_data"
    }
   ],
   "source": [
    "bins = 20\n",
    "fig, ax = plt.subplots(2, 2)\n",
    "fig.set_figwidth(12)\n",
    "fig.set_figheight(7)\n",
    "df_inf.loc[df_inf['TotBytes'] < 6000]['TotBytes'].plot.hist(bins=bins, ax=ax[0][0], title='Total bytes of infected netflows');\n",
    "df_norm.loc[df_norm['TotBytes'] < 6000]['TotBytes'].plot.hist(bins=bins, ax=ax[0][1], title='Total bytes of normal netflows');\n",
    "\n",
    "df_inf['State'].plot.hist(bins=bins, ax=ax[1][0], title='State distribution of infected netflows');\n",
    "df_norm['State'].plot.hist(bins=bins, ax=ax[1][1], title='State distribution of normal netflows');"
   ]
  },
  {
   "cell_type": "code",
   "execution_count": 334,
   "metadata": {},
   "outputs": [
    {
     "name": "stdout",
     "output_type": "stream",
     "text": [
      "['FSPAC_FSRPA']\n",
      "8507\n"
     ]
    }
   ],
   "source": [
    "bot_state = df_inf['State'].value_counts().idxmax()\n",
    "print(state_enc.inverse_transform([bot_state]))\n",
    "print(df_inf['State'].value_counts()[bot_state])"
   ]
  },
  {
   "cell_type": "markdown",
   "metadata": {},
   "source": [
    "The lower region of the total bytes data seems to show a good difference between normal and infected netflows. The state of the netflows shows a major difference, as almost only bots use the state 'FSPAC_FSPRA' and seems very promising for modelling bot-net behavior."
   ]
  },
  {
   "cell_type": "markdown",
   "metadata": {},
   "source": [
    "### 1b. Discretize selected features"
   ]
  },
  {
   "cell_type": "code",
   "execution_count": 311,
   "metadata": {},
   "outputs": [
    {
     "data": {
      "image/png": "[encoded data removed]",
      "text/plain": [
       "<Figure size 864x288 with 2 Axes>"
      ]
     },
     "metadata": {
      "needs_background": "light"
     },
     "output_type": "display_data"
    }
   ],
   "source": [
    "'''\n",
    "Discretize total bytes with several bins, where [800, 1300] is most frequent for infected hosts\n",
    "And [0, 800] is most frequent for normal hosts\n",
    "'''\n",
    "def discretize_tot_bytes(dataframe):    \n",
    "    totBytesBins = [-1, 800, 1300, 1900, 10000, dataframe['TotBytes'].max()]\n",
    "    totBytesLabels=[1,2,3,4,5]\n",
    "    dataframe['TotBytes_disc'] = pd.cut(dataframe['TotBytes'], bins=totBytesBins, labels=totBytesLabels)\n",
    "\n",
    "discretize_tot_bytes(df_inf)\n",
    "discretize_tot_bytes(df_norm)\n",
    "fig, ax = plt.subplots(1, 2)\n",
    "fig.set_figwidth(12)\n",
    "fig.set_figheight(4)\n",
    "df_inf.TotBytes_disc.value_counts().sort_index().plot(kind = 'bar', ax=ax[0], title=\"Infected\");\n",
    "df_norm.TotBytes_disc.value_counts().sort_index().plot(kind = 'bar', ax=ax[1], title=\"Normal\");"
   ]
  },
  {
   "cell_type": "code",
   "execution_count": 312,
   "metadata": {},
   "outputs": [
    {
     "data": {
      "image/png": "[encoded data removed]",
      "text/plain": [
       "<Figure size 864x288 with 2 Axes>"
      ]
     },
     "metadata": {
      "needs_background": "light"
     },
     "output_type": "display_data"
    }
   ],
   "source": [
    "# Discretize encoded state in 6 roughly equally sized bins\n",
    "def discretize_state(dataframe):\n",
    "    totStateBins = [-1, 20, 40, 60, 80, 100, dataframe['State'].max() + 1]\n",
    "    totStateLabels=[1,2,3,4,5,6]\n",
    "    dataframe['State_disc'] = pd.cut(dataframe['State'], bins=totStateBins, labels=totStateLabels)\n",
    "\n",
    "discretize_state(df_inf)\n",
    "discretize_state(df_norm)\n",
    "fig, ax = plt.subplots(1, 2)\n",
    "fig.set_figwidth(12)\n",
    "fig.set_figheight(4)\n",
    "df_inf.State_disc.value_counts().sort_index().plot(kind = 'bar', ax=ax[0], title=\"Infected\");\n",
    "df_norm.State_disc.value_counts().sort_index().plot(kind = 'bar', ax=ax[1], title=\"Normal\");"
   ]
  },
  {
   "cell_type": "code",
   "execution_count": 313,
   "metadata": {},
   "outputs": [
    {
     "data": {
      "image/png": "[encoded data removed]",
      "text/plain": [
       "<Figure size 864x288 with 2 Axes>"
      ]
     },
     "metadata": {
      "needs_background": "light"
     },
     "output_type": "display_data"
    }
   ],
   "source": [
    "# Combine the two discretized values into one integer by appending\n",
    "def combine_discrete_values(row, key1, key2):\n",
    "    return int(str(int(row[key1])) + str(int(row[key2])))\n",
    "\n",
    "# Apply combination to dataframe\n",
    "def df_combine_discretization(dataframe):\n",
    "    dataframe['disc'] = dataframe.apply (lambda row: combine_discrete_values(row, 'State_disc', 'TotBytes_disc'), axis=1)\n",
    "\n",
    "df_combine_discretization(df_inf)\n",
    "df_combine_discretization(df_norm)\n",
    "fig, ax = plt.subplots(1, 2)\n",
    "fig.set_figwidth(12)\n",
    "fig.set_figheight(4)\n",
    "df_inf.disc.value_counts().sort_index().plot(kind = 'bar', ax=ax[0], title=\"Infected\");\n",
    "df_norm.disc.value_counts().sort_index().plot(kind = 'bar', ax=ax[1], title=\"Normal\");"
   ]
  },
  {
   "cell_type": "code",
   "execution_count": 314,
   "metadata": {},
   "outputs": [
    {
     "data": {
      "image/png": "[encoded data removed]",
      "text/plain": [
       "<Figure size 864x288 with 2 Axes>"
      ]
     },
     "metadata": {
      "needs_background": "light"
     },
     "output_type": "display_data"
    }
   ],
   "source": [
    "discretize_tot_bytes(df)\n",
    "discretize_state(df)\n",
    "df_combine_discretization(df)\n",
    "\n",
    "discretize_tot_bytes(df_all)\n",
    "discretize_state(df_all)\n",
    "df_combine_discretization(df_all)\n",
    "\n",
    "fig, ax = plt.subplots(1, 2)\n",
    "fig.set_figwidth(12)\n",
    "fig.set_figheight(4)\n",
    "\n",
    "df.disc.value_counts().sort_index().plot(kind = 'bar', ax=ax[0], title=\"All data\");\n",
    "df_all.disc.value_counts().sort_index().plot(kind = 'bar', ax=ax[1], title=\"All hosts\");"
   ]
  },
  {
   "cell_type": "markdown",
   "metadata": {},
   "source": [
    "### 1b. Answers and explanation"
   ]
  },
  {
   "cell_type": "markdown",
   "metadata": {},
   "source": [
    "The combined discretized feature shows a clear discrepancy between infected netflows and normal netflows. This discrepancy also shows when combining all hosts. The value 62 seems to be a clear indicator for infected netflows as the absolute majority of the infected netflows have this value, while none of the normal netflows have this value. 62 is the result of state discretized value 6 and total bytes value 2. This also follows from the figures in 1a and the total bytes bin of \\[800, 1300\\]."
   ]
  },
  {
   "cell_type": "markdown",
   "metadata": {},
   "source": [
    "## 6.Botnet profiling task – 1/2 A4"
   ]
  },
  {
   "cell_type": "code",
   "execution_count": 315,
   "metadata": {},
   "outputs": [],
   "source": [
    "# Import all netflow datasets\n",
    "df = []\n",
    "df.append(pd.read_table('./dataset_9/capture20110817.binetflow', sep=\",\"))\n",
    "df.append(pd.read_table('./dataset_10/capture20110818.binetflow', sep=\",\"))\n",
    "df.append(pd.read_table('./dataset_11/capture20110818-2.binetflow', sep=\",\"))\n",
    "df.append(pd.read_table('./dataset_12/capture20110819.binetflow', sep=\",\"))\n",
    "df_tot = pd.concat(df, ignore_index=True)\n",
    "\n",
    "# Encode state based on the combined dataset so we don't miss any states\n",
    "state_enc = LabelEncoder()\n",
    "df_tot.loc[df_tot['State'].isna(),'State'] = 'NA'\n",
    "state_enc.fit(df_tot['State'])\n",
    "for dataframe in df:\n",
    "    dataframe.loc[dataframe['State'].isna(),'State'] = 'NA'\n",
    "    dataframe['State'] = state_enc.transform(dataframe.State)\n",
    "    # Discretize the total bytes and state for our combined 'disc' feature\n",
    "    discretize_tot_bytes(dataframe)\n",
    "    discretize_state(dataframe)\n",
    "    df_combine_discretization(dataframe)"
   ]
  },
  {
   "cell_type": "code",
   "execution_count": 316,
   "metadata": {},
   "outputs": [],
   "source": [
    "# Calculate unique 3-grams of the 'disc' feature\n",
    "unique_disc = []\n",
    "unique_ngram = []\n",
    "for i in range(1,7):\n",
    "    for j in range(1, 6):\n",
    "        unique_disc.append(int(str(i) + str(j)))\n",
    "        \n",
    "for value1 in unique_disc:\n",
    "    for value2 in unique_disc:\n",
    "        for value3 in unique_disc:\n",
    "            unique_ngram.append((value1, value2 ,value3))"
   ]
  },
  {
   "cell_type": "markdown",
   "metadata": {},
   "source": [
    "### 6a. Learn a sequential model"
   ]
  },
  {
   "cell_type": "code",
   "execution_count": 317,
   "metadata": {},
   "outputs": [],
   "source": [
    "'''\n",
    "Create profiles per host based on the occurrence of 3-grams of 'disc' in the flows\n",
    "'''\n",
    "def create_ngram_profiles(df, window_size):\n",
    "    profiles = {}\n",
    "    # Group by src address\n",
    "    host_flows = df.groupby(by=['SrcAddr'])\n",
    "    # Get indices of rows per host\n",
    "    hosts = host_flows.indices\n",
    "    # Filter out hosts that have 10 or less flows\n",
    "    hosts = {k: v for k, v in hosts.items() if len(v) > 10}\n",
    "    disc = df['disc']\n",
    "    for (host, indices) in hosts.items():\n",
    "        # Determine 3-grams from each host\n",
    "        three_grams = set(map(tuple, [disc.iloc[i:i+3] for i in indices[:-3]]))\n",
    "        # Create boolean array, where each element is true if the 3-gram occurs and false if the 3-gram does not occur\n",
    "        profiles[host] = [x in three_grams for x in unique_ngram]\n",
    "        \n",
    "    return profiles\n",
    "\n",
    "# For each scenario get the profiles of all hosts\n",
    "scenario_profiles = []\n",
    "for dataframe in df:\n",
    "    scenario_profiles.append(create_ngram_profiles(dataframe, 10))\n",
    "    "
   ]
  },
  {
   "cell_type": "code",
   "execution_count": 318,
   "metadata": {},
   "outputs": [],
   "source": [
    "# The chosen infected hosts for scenario 9-12 respecetively\n",
    "inf_profiles = ['147.32.84.165', '147.32.84.191', '147.32.84.165', '147.32.84.165']\n",
    "scenario_distances = []\n",
    "for index, scenario in enumerate(scenario_profiles):\n",
    "    distances = {}\n",
    "    # For every host, determine the cosine distance of their profile to that of the infected profile\n",
    "    for (host, profile) in scenario.items():\n",
    "        dist = distance.cosine(scenario[inf_profiles[index]], profile)\n",
    "        distances[host] = dist\n",
    "        \n",
    "    scenario_distances.append(distances)"
   ]
  },
  {
   "cell_type": "code",
   "execution_count": 319,
   "metadata": {},
   "outputs": [
    {
     "name": "stdout",
     "output_type": "stream",
     "text": [
      "Scenario 9:\n",
      "('147.32.84.165', 0.0)\n",
      "('147.32.84.193', 0.2404794367867482)\n",
      "('147.32.84.191', 0.24599999999999989)\n",
      "('147.32.84.192', 0.24747119979252608)\n",
      "('147.32.84.205', 0.2537579055149133)\n",
      "('147.32.84.204', 0.2581163235166275)\n",
      "('147.32.84.208', 0.25924362979451876)\n",
      "('147.32.84.209', 0.26118115762165217)\n",
      "('147.32.84.206', 0.26148582338179893)\n",
      "('147.32.84.207', 0.2631118357127272)\n",
      "('147.32.84.118', 0.36003862476103077)\n",
      "('147.32.85.26', 0.3878475580013603)\n",
      "('147.32.84.21', 0.4075959164663775)\n",
      "('147.32.86.176', 0.41871256510465227)\n",
      "('147.32.86.179', 0.4214075434563368)\n",
      "('147.32.84.132', 0.42172574481814584)\n",
      "('147.32.86.114', 0.4225281961770546)\n",
      "('147.32.86.155', 0.4245556222500232)\n",
      "('147.32.86.125', 0.4281239918700044)\n",
      "('147.32.84.94', 0.43314033561921184)\n",
      "\n",
      "Scenario 10:\n",
      "('147.32.84.191', 0.0)\n",
      "('147.32.84.165', 0.36046031231529285)\n",
      "('147.32.84.193', 0.3634573360085752)\n",
      "('147.32.84.207', 0.3706563706563706)\n",
      "('147.32.84.206', 0.37810869200274266)\n",
      "('147.32.84.209', 0.37836587756650364)\n",
      "('147.32.84.204', 0.3851095676773906)\n",
      "('147.32.84.192', 0.3854609284061644)\n",
      "('147.32.84.208', 0.3907664536299261)\n",
      "('147.32.84.205', 0.4176434604650351)\n",
      "('147.32.86.27', 0.7101378704119701)\n",
      "('147.32.84.171', 0.712402205913892)\n",
      "('147.32.86.44', 0.7354069903834617)\n",
      "('147.32.85.76', 0.7397921252219918)\n",
      "('66.249.72.35', 0.7403198690618256)\n",
      "('66.249.66.41', 0.7420519878606837)\n",
      "('147.32.84.118', 0.7521411746997676)\n",
      "('213.192.30.58', 0.7538273499260084)\n",
      "('195.113.53.184', 0.7544771301155057)\n",
      "('147.32.86.82', 0.7561719047753922)\n",
      "\n",
      "Scenario 11:\n",
      "('147.32.84.165', 0.0)\n",
      "('147.32.84.191', 0.30358933873343097)\n",
      "('147.32.96.69', 0.6859541518416707)\n",
      "('147.32.84.118', 0.7307703748882481)\n",
      "('66.249.66.41', 0.787732547797907)\n",
      "('147.32.84.94', 0.7981120069854754)\n",
      "('147.32.84.171', 0.8249247561870366)\n",
      "('147.32.84.170', 0.829594270863078)\n",
      "('147.32.85.123', 0.8410594632335366)\n",
      "('147.32.84.229', 0.844127273195912)\n",
      "\n",
      "Scenario 12:\n",
      "('147.32.84.165', 0.0)\n",
      "('147.32.84.192', 0.41068953708132216)\n",
      "('147.32.84.191', 0.4208139122617157)\n",
      "('147.32.85.26', 0.485686341544994)\n",
      "('147.32.84.94', 0.5435884035851447)\n",
      "('147.32.85.74', 0.5467481110776695)\n",
      "('147.32.86.44', 0.5530307739939917)\n",
      "('147.32.86.58', 0.5573785412263919)\n",
      "('147.32.86.165', 0.5619113507214745)\n",
      "('147.32.86.179', 0.563089861949654)\n"
     ]
    }
   ],
   "source": [
    "print('Scenario 9:')\n",
    "print(*list(sorted(scenario_distances[0].items(), key=lambda item: item[1]))[:20], sep='\\n')\n",
    "print('\\nScenario 10:')\n",
    "print(*list(sorted(scenario_distances[1].items(), key=lambda item: item[1]))[:20], sep='\\n')\n",
    "print('\\nScenario 11:')\n",
    "print(*list(sorted(scenario_distances[2].items(), key=lambda item: item[1]))[:10], sep='\\n')\n",
    "print('\\nScenario 12:')\n",
    "print(*list(sorted(scenario_distances[3].items(), key=lambda item: item[1]))[:10], sep='\\n')"
   ]
  },
  {
   "cell_type": "markdown",
   "metadata": {},
   "source": [
    "### 6b. Analysis and answers to the questions."
   ]
  },
  {
   "cell_type": "markdown",
   "metadata": {},
   "source": [
    "We learn a 3-gram model on the individual hosts of all scenarios with more than ten flows in order to profile each host individually. The profile consists of a boolean array, indicating for each possible ngram, whether it exists in the host's flows. We compare the different profiles with cosine distance, resulting in the scores found above.\n",
    "\n",
    "The results for each scenario show excellent performance for the detection of botnets. Scenario 9 has ten infected hosts that would all get detected by setting the threshold to 0.3. The same goes for scenario 10 with threshold 0.5. Scenario 12 contains three infected hosts which would get detected with threshold 0.45. scenario 11 has three infected hosts and with threshold 0.5 detects two. The last infected host is missing from the profiles due to filtering all hosts with 10 or fewer flows."
   ]
  },
  {
   "cell_type": "markdown",
   "metadata": {},
   "source": [
    "## 7.Botnet fingerprinting task – 1/2 A4"
   ]
  },
  {
   "cell_type": "markdown",
   "metadata": {},
   "source": [
    "### 7a. Fingerprinting\n"
   ]
  },
  {
   "cell_type": "code",
   "execution_count": 320,
   "metadata": {},
   "outputs": [],
   "source": [
    "import random\n",
    "random.seed(42)\n",
    "\n",
    "# Infected hosts for the different scenarios\n",
    "infected_hosts_11_12 = ['147.32.84.191', '147.32.84.192']\n",
    "infected_hosts_9_10 = ['147.32.84.191', '147.32.84.192', '147.32.84.193', '147.32.84.204',\n",
    "                  '147.32.84.205', '147.32.84.206', '147.32.84.207', '147.32.84.208', '147.32.84.209']\n",
    "\n",
    "# Infected host used for fingerprinting\n",
    "infected_host = ['147.32.84.165']\n",
    "\n",
    "# Create training/testing data with one infected host in the training data and the others in the testing data\n",
    "# split: The fraction of normal hosts in the test sets vs training sets\n",
    "split = 0.3\n",
    "training_data = [{}, {}, {}, {}]\n",
    "testing_data = [{}, {}, {}, {}]\n",
    "\n",
    "def train_test_split(profiles, infected_hosts, training_host, split):\n",
    "    training_data = {}\n",
    "    test_data = {}\n",
    "    for (host, profile) in profiles.items():\n",
    "        if host in infected_hosts:\n",
    "            test_data[host] = profile\n",
    "        elif host in training_host:\n",
    "            training_data[host] = profile\n",
    "        elif random.random() < split:\n",
    "            test_data[host] = profile\n",
    "        else:\n",
    "            training_data[host] = profile\n",
    "            \n",
    "    return training_data, test_data\n",
    "\n",
    "# Scenario 9 and 10\n",
    "for index, scenario in enumerate(scenario_profiles[:2]):\n",
    "    train_data, test_data = train_test_split(scenario, infected_hosts_9_10, infected_host, split)\n",
    "    training_data[index] = train_data\n",
    "    testing_data[index] = test_data\n",
    "            \n",
    "# Scenario 11 and 12\n",
    "for index, scenario in enumerate(scenario_profiles[2:4]):\n",
    "    train_data, test_data = train_test_split(scenario, infected_hosts_11_12, infected_host, split)\n",
    "    training_data[index+2] = train_data\n",
    "    testing_data[index+2] = test_data\n",
    "\n",
    "infected_profiles = []\n",
    "normal_profiles = []\n",
    "xor_profiles = []\n",
    "\n",
    "# Use the profiles for finding the fingerprint\n",
    "# infected profile is the profile of host 147.32.84.165\n",
    "# normal profile is the logical OR of all normal profiles in the set\n",
    "for index, scenario in enumerate(training_data):\n",
    "    infected_profile = np.array(training_data[index][infected_host[0]])\n",
    "    normal_profile = np.array([False for _ in unique_ngram])\n",
    "    for (host, profile) in scenario.items():\n",
    "        if host not in infected_host:\n",
    "            normal_profile = normal_profile | np.array(profile)\n",
    "            \n",
    "    infected_profiles.append(infected_profile)\n",
    "    normal_profiles.append(normal_profile)\n",
    "    xor_profiles.append(np.logical_xor(infected_profile, normal_profile))"
   ]
  },
  {
   "cell_type": "code",
   "execution_count": 321,
   "metadata": {
    "scrolled": true
   },
   "outputs": [],
   "source": [
    "fingerprints = []\n",
    "for i in range(4):\n",
    "    # Find the ngrams that are not present in normal flows, but present in infected flows\n",
    "    fingerprint = np.argwhere(xor_profiles[i] & infected_profiles[i])\n",
    "    fingerprint = np.array(unique_ngram, dtype='i,i,i')[fingerprint.flatten()]\n",
    "    fingerprints.append(fingerprint)\n",
    "    \n",
    "scores_scenario = []\n",
    "for index, test_data in enumerate(testing_data):\n",
    "    scores = {}\n",
    "    for (host, profile) in test_data.items():\n",
    "        ngrams_in_profile = np.array(unique_ngram, dtype='i,i,i')[np.array(profile)]\n",
    "        # Intersection of the ngram lists gives the ngrams that are in the fingerprint and in the inspected host\n",
    "        intersection = np.intersect1d(ngrams_in_profile, fingerprints[index])\n",
    "        # Score based on the fraction of ngrams in the intersection and in the fingerprint\n",
    "        scores[host] = len(intersection) / len(fingerprints[index])\n",
    "    \n",
    "    scores_scenario.append(scores)"
   ]
  },
  {
   "cell_type": "code",
   "execution_count": 322,
   "metadata": {},
   "outputs": [
    {
     "name": "stdout",
     "output_type": "stream",
     "text": [
      "Scenario 9:\n",
      "('147.32.84.193', 0.125)\n",
      "('147.32.84.94', 0.125)\n",
      "('147.32.84.191', 0.0625)\n",
      "('147.32.84.209', 0.0625)\n",
      "('147.32.85.26', 0.0625)\n",
      "('147.32.86.165', 0.0625)\n",
      "('65.49.11.19', 0.0625)\n",
      "('10.10.20.233', 0.0)\n",
      "('10.8.0.98', 0.0)\n",
      "('101.108.25.210', 0.0)\n",
      "('109.117.10.107', 0.0)\n",
      "('109.164.137.4', 0.0)\n",
      "('109.171.128.9', 0.0)\n",
      "('109.172.66.33', 0.0)\n",
      "('109.173.36.109', 0.0)\n",
      "('109.184.159.239', 0.0)\n",
      "('109.201.232.126', 0.0)\n",
      "('109.205.60.70', 0.0)\n",
      "('109.231.234.212', 0.0)\n",
      "('109.236.80.143', 0.0)\n",
      "\n",
      "Scenario 10:\n",
      "('147.32.84.207', 0.5949367088607594)\n",
      "('147.32.84.191', 0.5822784810126582)\n",
      "('147.32.84.192', 0.5822784810126582)\n",
      "('147.32.84.205', 0.5443037974683544)\n",
      "('147.32.84.193', 0.5316455696202531)\n",
      "('147.32.84.208', 0.5316455696202531)\n",
      "('147.32.84.209', 0.5063291139240507)\n",
      "('147.32.84.204', 0.4810126582278481)\n",
      "('147.32.84.206', 0.4430379746835443)\n",
      "('147.32.96.69', 0.4050632911392405)\n",
      "('147.32.84.229', 0.05063291139240506)\n",
      "('89.235.37.130', 0.05063291139240506)\n",
      "('147.32.84.118', 0.0379746835443038)\n",
      "('86.49.116.224', 0.02531645569620253)\n",
      "('147.32.85.24', 0.012658227848101266)\n",
      "('147.32.85.6', 0.012658227848101266)\n",
      "('147.32.86.116', 0.012658227848101266)\n",
      "('147.32.87.48', 0.012658227848101266)\n",
      "('188.138.84.239', 0.012658227848101266)\n",
      "('1.72.2.157', 0.0)\n",
      "\n",
      "Scenario 11:\n",
      "('147.32.84.191', 0.62)\n",
      "('147.32.84.94', 0.02)\n",
      "('147.32.85.8', 0.02)\n",
      "('109.144.218.203', 0.0)\n",
      "('125.141.229.197', 0.0)\n",
      "('147.32.80.13', 0.0)\n",
      "('147.32.84.123', 0.0)\n",
      "('147.32.84.134', 0.0)\n",
      "('147.32.84.138', 0.0)\n",
      "('147.32.84.166', 0.0)\n",
      "\n",
      "Scenario 12:\n",
      "('10.10.20.233', 0.0)\n",
      "('111.89.6.104', 0.0)\n",
      "('113.105.171.56', 0.0)\n",
      "('113.105.171.62', 0.0)\n",
      "('113.118.237.103', 0.0)\n",
      "('116.228.141.62', 0.0)\n",
      "('123.30.186.37', 0.0)\n",
      "('125.141.229.197', 0.0)\n",
      "('139.19.40.114', 0.0)\n",
      "('147.32.80.13', 0.0)\n"
     ]
    }
   ],
   "source": [
    "print('Scenario 9:')\n",
    "print(*list(sorted(scores_scenario[0].items(), key=lambda item: item[1], reverse=True))[:20], sep='\\n')\n",
    "print('\\nScenario 10:')\n",
    "print(*list(sorted(scores_scenario[1].items(), key=lambda item: item[1], reverse=True))[:20], sep='\\n')\n",
    "print('\\nScenario 11:')\n",
    "print(*list(sorted(scores_scenario[2].items(), key=lambda item: item[1], reverse=True))[:10], sep='\\n')\n",
    "print('\\nScenario 12:')\n",
    "print(*list(sorted(scores_scenario[3].items(), key=lambda item: item[1], reverse=True))[:10], sep='\\n')"
   ]
  },
  {
   "cell_type": "code",
   "execution_count": 323,
   "metadata": {},
   "outputs": [
    {
     "name": "stdout",
     "output_type": "stream",
     "text": [
      "Scenario 9 : TP: 1, TN: 828, FP: 1, FN: 8\n",
      "fingerprint length: 16\n",
      "Scenario 10: TP: 9, TN: 591, FP: 1, FN: 0\n",
      "fingerprint length: 79\n",
      "Scenario 11: TP: 1, TN: 52, FP: 0, FN: 1\n",
      "fingerprint length: 50\n",
      "Scenario 12: TP: 0, TN: 122, FP: 0, FN: 2\n",
      "fingerprint length: 4\n"
     ]
    }
   ],
   "source": [
    "def evaluate(scenario, scores, threshold, inf_hosts):\n",
    "    positives = dict(filter(lambda elem: elem[1] > threshold, scores.items()))\n",
    "    true_positives = len(np.intersect1d(np.array(list(positives.keys())), np.array(inf_hosts)))\n",
    "    false_positives = len(positives) - true_positives\n",
    "    false_negatives = len(inf_hosts) - true_positives\n",
    "    true_negatives = len(scores) - len(positives) - false_negatives\n",
    "    print(f'{scenario}: TP: {true_positives}, TN: {true_negatives}, FP: {false_positives}, FN: {false_negatives}')\n",
    "    \n",
    "evaluate('Scenario 9 ', scores_scenario[0], 0.1, infected_hosts_9_10)\n",
    "print(f'fingerprint length: {len(fingerprints[0])}')\n",
    "evaluate('Scenario 10', scores_scenario[1], 0.1, infected_hosts_9_10)\n",
    "print(f'fingerprint length: {len(fingerprints[1])}')\n",
    "evaluate('Scenario 11', scores_scenario[2], 0.1, infected_hosts_11_12)\n",
    "print(f'fingerprint length: {len(fingerprints[2])}')\n",
    "evaluate('Scenario 12', scores_scenario[3], 0.1, infected_hosts_11_12)\n",
    "print(f'fingerprint length: {len(fingerprints[3])}')"
   ]
  },
  {
   "cell_type": "markdown",
   "metadata": {},
   "source": [
    "### 7b. Analysis and answers to the questions."
   ]
  },
  {
   "cell_type": "markdown",
   "metadata": {},
   "source": [
    "For scenario 10 and 11, fingerprinting gives good results. Scenario 10 has 9 TP, 1 FP and 0 FN. Scenario 11 has 1 TP, 0 FP and 1 FN, again due to one infected host missing from the data. For scenarios 9 and 12, fingerprinting performs poorly. Scenario 9 has 1 TP, 1 FP and 8 FN. Scenario 12 has 0 TP, 0 FP and 2 FN. This can be attributed to the number of ngrams in the fingerprint. Scenario 9 has 16 ngrams and scenario 12 has 4, while scenario 10 has 79 ngrams and scenario 11 has 50. For scenario 12 this results in none of the ngrams appearing in any of the other flows. It is also important to note that in this evaluation a score is calculated on the suspiciousness of hosts by taking the fraction of ngrams in the fingerprint that occurr in the host. The threshold is set to 0.1 to increase performance. In a real-time situation, hosts are classified as infected as soon as one, or multiple of the fingerprint ngrams are detected. This can be tweaked to the desired sensitivity.\n",
    "\n",
    "Fingerprinting performs worse than profiling. Profiling achieves 100% accuracy on the dataset. Although the methods do not differ substantially, the main benefit of profiling is that it also takes into account the absence/presence of normal flow ngrams in its classification. Fingerprinting has the advantage that it can be used in real-time, allowing a network operator to act quickly on any host showing infected behavior. Profiling requires a large number of netflows to construct a profile and classify a host, thereby decreasing reaction speed."
   ]
  },
  {
   "cell_type": "markdown",
   "metadata": {},
   "source": [
    "## 8. Bonus Task 1/2 A4"
   ]
  },
  {
   "cell_type": "markdown",
   "metadata": {},
   "source": [
    "### 8a. Provide implementation and analysis."
   ]
  },
  {
   "cell_type": "code",
   "execution_count": 324,
   "metadata": {},
   "outputs": [],
   "source": [
    "df_10 = pd.read_table('./dataset_10/capture20110818.binetflow', sep=\",\")\n",
    "# Class label \n",
    "df_10.loc[df_10['Label'].str.contains('Botnet'), 'Labell'] = 1 # infected\n",
    "df_10.loc[df_10['Label'].str.contains('Normal'), 'Labell'] = 0\n",
    "df_10.loc[df_10['Label'].str.contains('Background'), 'Labell'] = 0\n",
    "df_10 = df_10.drop(columns=['Label', 'StartTime'])\n",
    "\n",
    "# clean up data\n",
    "df_10.loc[df_10['State'].isna(),'State'] = 'NA'\n",
    "df_10.loc[df_10['Dport'].isna(),'Dport'] = 0\n",
    "df_10.loc[df_10['Sport'].isna(),'Sport'] = 0\n",
    "df_10.loc[df_10['sTos'].isna(),'sTos'] = 0\n",
    "df_10.loc[df_10['dTos'].isna(),'dTos'] = 0\n",
    "\n",
    "df_10.Dport = df_10.Dport.apply(lambda x: int(str(x), 0))\n",
    "df_10.Sport = df_10.Sport.apply(lambda x: int(str(x), 0))\n",
    "\n",
    "# One hot encoding\n",
    "one_hot_encode_cols = [\n",
    "    'Proto',\n",
    "    'State',\n",
    "    'Dir'\n",
    "]\n",
    "\n",
    "df_10 = pd.get_dummies(df_10, columns=one_hot_encode_cols)\n",
    "\n",
    "addr_encoder = LabelEncoder()\n",
    "addr_encoder.fit(df_10['SrcAddr'].append(df_10['DstAddr']))\n",
    "df_10['SrcAddr'] = addr_encoder.transform(df_10.SrcAddr)\n",
    "df_10['DstAddr'] = addr_encoder.transform(df_10.DstAddr)\n",
    "\n",
    "# Get target\n",
    "y = df_10[\"Labell\"].to_numpy().astype(int)\n",
    "df_10.drop(columns=[\"Labell\"], inplace=True)\n",
    "\n",
    "X = df_10.to_numpy().astype(float)"
   ]
  },
  {
   "cell_type": "code",
   "execution_count": 325,
   "metadata": {},
   "outputs": [
    {
     "name": "stdout",
     "output_type": "stream",
     "text": [
      "1309791\n",
      "106352\n"
     ]
    }
   ],
   "source": [
    "print(len(y))\n",
    "print(y.sum())"
   ]
  },
  {
   "cell_type": "markdown",
   "metadata": {},
   "source": [
    "There is a class imbalance, but we use naive bayes so we don't SMOTE."
   ]
  },
  {
   "cell_type": "code",
   "execution_count": 326,
   "metadata": {
    "scrolled": false
   },
   "outputs": [
    {
     "name": "stdout",
     "output_type": "stream",
     "text": [
      "New fold\n",
      "New fold\n",
      "New fold\n",
      "New fold\n",
      "New fold\n"
     ]
    }
   ],
   "source": [
    "### This cell takes over 15 minutes ###\n",
    "\n",
    "from sklearn.model_selection import StratifiedKFold\n",
    "from sklearn.naive_bayes import GaussianNB\n",
    "from imblearn.over_sampling import SMOTE\n",
    "\n",
    "n_folds = 5\n",
    "k = 8\n",
    "k_fold = StratifiedKFold(n_splits=n_folds)\n",
    "y_white_predictions = np.zeros(len(y))\n",
    "y_white_index_arrays = []\n",
    "for train_index, test_index in k_fold.split(X, y):\n",
    "    print(\"New fold\")\n",
    "    X_train, X_test = X[train_index], X[test_index]\n",
    "    y_train, y_test = y[train_index], y[test_index]\n",
    "    \n",
    "    classifier = GaussianNB()\n",
    "    classifier.fit(X_train, y_train)\n",
    "\n",
    "    y_pred_proba = classifier.predict_proba(X_test)[:, 1]\n",
    "    y_white_predictions[test_index] = y_pred_proba\n",
    "    y_white_index_arrays.append(test_index)"
   ]
  },
  {
   "cell_type": "code",
   "execution_count": 327,
   "metadata": {},
   "outputs": [
    {
     "name": "stdout",
     "output_type": "stream",
     "text": [
      "True positives: 21143\n",
      "False positives: 83175\n",
      "TPR: 0.1988020911689484, FPR: 0.06911442956394134\n"
     ]
    }
   ],
   "source": [
    "def tp_fp(y_prediction_probabilities, y, threshold):\n",
    "    y_pred = np.where(y_prediction_probabilities > threshold, 1, 0)\n",
    "    true_positive_count = sum(a == 1 and b == 1 for a, b in zip(y_pred, y))\n",
    "    false_positive_count = sum(a == 1 and b == 0 for a, b in zip(y_pred, y))\n",
    "    print(\"True positives: \" + str(true_positive_count))\n",
    "    print(\"False positives: \" + str(false_positive_count))\n",
    "    TPR = true_positive_count / y.sum()\n",
    "    FPR = false_positive_count / (len(y) - y.sum())\n",
    "    print(f'TPR: {TPR}, FPR: {FPR}')\n",
    "\n",
    "    \n",
    "tp_fp(y_white_predictions, y, 0.99999999)"
   ]
  },
  {
   "cell_type": "markdown",
   "metadata": {},
   "source": [
    "#### Precision, recall, fscore"
   ]
  },
  {
   "cell_type": "code",
   "execution_count": 328,
   "metadata": {},
   "outputs": [
    {
     "name": "stdout",
     "output_type": "stream",
     "text": [
      "Precision: 0.20267834889472575, recall: 0.1988020911689484, fscore: 0.20072150757108273\n"
     ]
    }
   ],
   "source": [
    "from sklearn.metrics import precision_score\n",
    "from sklearn.metrics import recall_score\n",
    "from sklearn.metrics import f1_score\n",
    "\n",
    "def precision_recall_fscore(y, y_pred, average):\n",
    "    precision = precision_score(y, y_pred, average=average)\n",
    "    recall = recall_score(y, y_pred, average=average)\n",
    "    fscore = f1_score(y, y_pred, average=average)\n",
    "    return (precision, recall, fscore)\n",
    "\n",
    "precision, recall, fscore = precision_recall_fscore(y, np.where(y_white_predictions > 0.99999999, 1, 0), 'binary')\n",
    "print(f'Precision: {precision}, recall: {recall}, fscore: {fscore}')"
   ]
  },
  {
   "cell_type": "code",
   "execution_count": 329,
   "metadata": {},
   "outputs": [
    {
     "data": {
      "image/png": "[encoded data removed]",
      "text/plain": [
       "<Figure size 432x288 with 1 Axes>"
      ]
     },
     "metadata": {
      "needs_background": "light"
     },
     "output_type": "display_data"
    }
   ],
   "source": [
    "from sklearn.metrics import auc\n",
    "from sklearn.metrics import roc_curve\n",
    "    \n",
    "# Plot the mean roc curve\n",
    "def plot_mean_roc(y_predictions, y_index_arrays):\n",
    "    n_folds = 5\n",
    "    color = 'blue'\n",
    "    classifier_name = 'Naive Bayes'\n",
    "\n",
    "    tprs = []\n",
    "    aucs = []\n",
    "    mean_fpr = np.linspace(0, 1, 100)\n",
    "\n",
    "    for test_index in y_index_arrays:\n",
    "        y_pred = y_predictions[test_index]\n",
    "        y_test = y[test_index]\n",
    "        fpr, tpr, thresholds = roc_curve(y_test, y_pred)\n",
    "        roc_auc = auc(fpr, tpr)\n",
    "        interp_tpr = np.interp(mean_fpr, fpr, tpr)\n",
    "        interp_tpr[0] = 0.0\n",
    "        tprs.append(interp_tpr)\n",
    "        aucs.append(roc_auc)\n",
    "\n",
    "    mean_tpr = np.mean(tprs, axis=0)\n",
    "    mean_tpr[-1] = 1.0\n",
    "    mean_auc = auc(mean_fpr, mean_tpr)\n",
    "    std_auc = np.std(aucs)\n",
    "    plt.plot(mean_fpr, mean_tpr, label=r'Mean ROC %s (AUC = %0.2f $\\pm$ %0.2f)' % (classifier_name, mean_auc, std_auc), color=color)\n",
    "\n",
    "    std_tpr = np.std(tprs, axis=0)\n",
    "    tprs_upper = np.minimum(mean_tpr + std_tpr, 1)\n",
    "    tprs_lower = np.maximum(mean_tpr - std_tpr, 0)\n",
    "    plt.fill_between(mean_fpr, tprs_lower, tprs_upper, color=color, alpha=.2)\n",
    "\n",
    "    plt.legend(loc=\"lower right\")\n",
    "    plt.xlim(0, 1)\n",
    "    plt.ylim(0, 1)\n",
    "    plt.title(\"Vertically averaged ROC curves for naive bayes\")\n",
    "    plt.plot([0, 1], [0, 1], c=\"gray\", linestyle=\"--\")\n",
    "    plt.xlabel(\"False positive rate\")\n",
    "    plt.ylabel(\"True positive rate\")\n",
    "\n",
    "plot_mean_roc(y_white_predictions, y_white_index_arrays)"
   ]
  },
  {
   "cell_type": "code",
   "execution_count": 330,
   "metadata": {},
   "outputs": [],
   "source": [
    "threshold = 0.99999999\n",
    "y_pred = np.where(y_white_predictions > threshold, 1, 0)\n",
    "df_10 = pd.read_table('./dataset_10/capture20110818.binetflow', sep=\",\")\n",
    "df_10['prediction'] = y_pred"
   ]
  },
  {
   "cell_type": "code",
   "execution_count": 331,
   "metadata": {},
   "outputs": [],
   "source": [
    "# Group by src address\n",
    "host_flows = df_10.groupby(by=['SrcAddr'])\n",
    "# Get indices of rows per host\n",
    "hosts = host_flows.indices\n",
    "\n",
    "# Determine classification score for each host\n",
    "host_detection_score = {}\n",
    "for host, indices in hosts.items():\n",
    "    # Score is fraction of infected classified flows over total number of flows\n",
    "    host_detection_score[host] = df_10['prediction'][indices].sum() / len(df_10['prediction'][indices])"
   ]
  },
  {
   "cell_type": "code",
   "execution_count": 332,
   "metadata": {},
   "outputs": [
    {
     "name": "stdout",
     "output_type": "stream",
     "text": [
      "Scenario 10 : TP: 10, TN: 151201, FP: 45, FN: 0\n"
     ]
    }
   ],
   "source": [
    "threshold = 0.15\n",
    "\n",
    "inf_hosts = ['147.32.84.165', '147.32.84.191', '147.32.84.192', '147.32.84.193', '147.32.84.204',\n",
    "                  '147.32.84.205', '147.32.84.206', '147.32.84.207', '147.32.84.208', '147.32.84.209']\n",
    "\n",
    "evaluate('Scenario 10 ', host_detection_score, threshold, inf_hosts)"
   ]
  },
  {
   "cell_type": "markdown",
   "metadata": {},
   "source": [
    "The scores for classifying individual netflows are quite poor. The naive bayes classifier with threshold 0.99999999 has a TPR of 0.199 and FPR of 0.069, with 83175 FP and therefore 83175 false alarms. Transforming the classifier to a host classifier however seems to have better results. Hosts are scored on the fraction of infected classified flows over the total number of flows. This results in 10 TP, 45 FP and 0 FN. \n",
    "\n",
    "We prefer using a sequential model for detecting botnets. A classifier does not take into account sequential netflows. Much of the behavior of botnets is captured in the sequence of one host's netflows. The performance of this classifier is best compared to the fingerprinting model, as a classifier is also able to classify netflows in real-time. The performance of the fingerprinting model on scenario 10 is better in this analysis. It would be interesting to compare the classifier to fingerprinting on scenarios 9 and 12, where fingerprinting showed poor results, but due this is not done due to time constraints."
   ]
  },
  {
   "cell_type": "code",
   "execution_count": 337,
   "metadata": {},
   "outputs": [
    {
     "name": "stdout",
     "output_type": "stream",
     "text": [
      "altgraph==0.17\n",
      "anyio==2.2.0\n",
      "appdirs==1.4.4\n",
      "appnope==0.1.2\n",
      "argon2-cffi==20.1.0\n",
      "asgiref==3.3.1\n",
      "async-generator==1.10\n",
      "attrs==20.3.0\n",
      "Babel==2.9.0\n",
      "backcall==0.2.0\n",
      "bleach==3.3.0\n",
      "cachetools==4.2.0\n",
      "certifi==2020.12.5\n",
      "cffi==1.14.5\n",
      "chardet==4.0.0\n",
      "colorama==0.4.4\n",
      "cycler==0.10.0\n",
      "Cython==0.29.23\n",
      "decorator==5.0.7\n",
      "defusedxml==0.7.1\n",
      "deprecation==2.1.0\n",
      "distro==1.5.0\n",
      "Django==3.1.6\n",
      "django-braces==1.14.0\n",
      "django-crontab==0.7.1\n",
      "django-highcharts==0.1.7\n",
      "entrypoints==0.3\n",
      "future==0.18.2\n",
      "gunicorn==20.1.0\n",
      "idna==2.10\n",
      "imbalanced-learn==0.8.0\n",
      "imblearn==0.0\n",
      "install==1.3.4\n",
      "ipykernel==5.5.3\n",
      "ipython==7.22.0\n",
      "ipython-genutils==0.2.0\n",
      "jedi==0.18.0\n",
      "Jinja2==2.11.3\n",
      "joblib==1.0.1\n",
      "json5==0.9.5\n",
      "jsonschema==3.2.0\n",
      "jupyter-client==6.1.12\n",
      "jupyter-core==4.7.1\n",
      "jupyter-packaging==0.9.2\n",
      "jupyter-server==1.6.4\n",
      "jupyterlab==3.0.14\n",
      "jupyterlab-pygments==0.1.2\n",
      "jupyterlab-server==2.4.0\n",
      "kiwisolver==1.3.1\n",
      "llvmlite==0.36.0\n",
      "lxml==4.6.2\n",
      "MarkupSafe==1.1.1\n",
      "matplotlib==3.4.1\n",
      "mistune==0.8.4\n",
      "mysqlclient==2.0.3\n",
      "nbclassic==0.2.7\n",
      "nbclient==0.5.3\n",
      "nbconvert==6.0.7\n",
      "nbformat==5.1.3\n",
      "nest-asyncio==1.5.1\n",
      "notebook==6.3.0\n",
      "numba==0.53.1\n",
      "numpy==1.20.2\n",
      "opencv-python==4.5.1.48\n",
      "packaging==20.8\n",
      "pandas==1.2.4\n",
      "pandocfilters==1.4.3\n",
      "parso==0.8.2\n",
      "patsy==0.5.1\n",
      "pefile==2019.4.18\n",
      "pexpect==4.8.0\n",
      "pickleshare==0.7.5\n",
      "pikepdf==2.2.1\n",
      "Pillow==8.2.0\n",
      "prometheus-client==0.10.1\n",
      "prompt-toolkit==3.0.18\n",
      "ptyprocess==0.7.0\n",
      "py2exe==0.10.1.0\n",
      "pycparser==2.20\n",
      "Pygments==2.8.1\n",
      "pyinstaller==4.1\n",
      "pyinstaller-hooks-contrib==2020.10\n",
      "pyparsing==2.4.7\n",
      "PyPDF2==1.26.0\n",
      "pyrsistent==0.17.3\n",
      "python-dateutil==2.8.1\n",
      "pytz==2021.1\n",
      "pywin32==300\n",
      "pywin32-ctypes==0.2.0\n",
      "pywinpty==0.5.7\n",
      "pyzmq==22.0.3\n",
      "requests==2.25.1\n",
      "scikit-learn==0.24.2\n",
      "scipy==1.6.3\n",
      "seaborn==0.11.1\n",
      "Send2Trash==1.5.0\n",
      "six==1.15.0\n",
      "sklearn==0.0\n",
      "sniffio==1.2.0\n",
      "sqlparse==0.4.1\n",
      "statsmodels==0.12.2\n",
      "tabula-py==2.2.0\n",
      "terminado==0.9.4\n",
      "testpath==0.4.4\n",
      "threadpoolctl==2.1.0\n",
      "tomlkit==0.7.0\n",
      "torch==1.8.1\n",
      "tornado==6.1\n",
      "traitlets==5.0.5\n",
      "tslearn==0.5.1.0\n",
      "typing-extensions==3.10.0.0\n",
      "urllib3==1.26.3\n",
      "wcwidth==0.2.5\n",
      "webencodings==0.5.1\n"
     ]
    }
   ],
   "source": [
    "!pip freeze"
   ]
  }
 ],
 "metadata": {
  "kernelspec": {
   "display_name": "Python 3",
   "language": "python",
   "name": "python3"
  },
  "language_info": {
   "codemirror_mode": {
    "name": "ipython",
    "version": 3
   },
   "file_extension": ".py",
   "mimetype": "text/x-python",
   "name": "python",
   "nbconvert_exporter": "python",
   "pygments_lexer": "ipython3",
   "version": "3.9.1"
  }
 },
 "nbformat": 4,
 "nbformat_minor": 2
}
